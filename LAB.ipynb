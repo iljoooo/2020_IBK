{
 "cells": [
  {
   "cell_type": "markdown",
   "metadata": {
    "slideshow": {
     "slide_type": "slide"
    }
   },
   "source": [
    "# 1. 의사코드 작성하기\n",
    "\n",
    "사용자가 입력한 값이 짝수인지 홀수인지 구하는 논리를 의사코드로 작성해보자."
   ]
  },
  {
   "cell_type": "markdown",
   "metadata": {},
   "source": []
  },
  {
   "cell_type": "markdown",
   "metadata": {},
   "source": [
    "# 2. 암호 만들기\n",
    "문자열 분할(slicing)을 사용하여 문자열을 암호화 하세요.\n",
    "- 암호화 방법\n",
    "    1. 문자열의 짝수번째 문자들을 추출한다.\n",
    "    2. 문자열의 홀수번째 문자들을 추출한다.\n",
    "    3. 1.과2.의 결과를 결합한다.\n",
    "- 결과\n",
    "    - '궁꽃피습다무화이었니'"
   ]
  },
  {
   "cell_type": "code",
   "execution_count": null,
   "metadata": {},
   "outputs": [],
   "source": [
    "text = '무궁화꽃이피었습니다'\n",
    "__TODO__"
   ]
  },
  {
   "cell_type": "markdown",
   "metadata": {},
   "source": [
    "# 3. 문자열 처리\n",
    "\n",
    "다음 트윗의 영단어를 모두 소문자로 변환하고 단어들을 분할 한 후, comma-separated values(CSV) 형태로 출력하세요.\n",
    "- 결과\n",
    "    - 'tina,fey,amy,poehler,are,hosting,the,golden,globe,awards,on,january,13,what,do,you,think'"
   ]
  },
  {
   "cell_type": "code",
   "execution_count": null,
   "metadata": {},
   "outputs": [],
   "source": [
    "tweet =  \"Tina Fey & Amy Poehler are hosting the Golden Globe awards on January 13. What do you think?\"\n",
    "\n",
    "\"\"\"\n",
    "1. 단어가 아닌 문자(& . ?) 제거 \n",
    "2. 모든 영문자를 소문자로 변환\n",
    "3. 단어들을 분할하여 리스트로 변환\n",
    "4. 리스트의 값들을 문자열 결합\n",
    "\"\"\"\n",
    "__TODO__\n",
    "\n",
    "print(tweet)"
   ]
  },
  {
   "cell_type": "markdown",
   "metadata": {},
   "source": [
    "# 4. List Comprehension\n",
    "- 불용어: I, that, is, the, a 등과 같이 자주 등장하지만, 실제 의미에 상관없는 단어\n",
    "- 아래 코드는 100개의 트윗을 리스트에 저장한 후, 영어가 아닌 문자들을 제거합니다.\n",
    "- 또한 변수 ***stops***는 일반적인 불용어들의 목록을 담고 있습니다.\n",
    "- ***tweets*** 의 트윗들에서 불용어를 제거하여 하나의 리스트로 만드세요\n",
    "  - 결과리스트의 이름은 ***words*** 으로 하세요\n",
    "  - List comprehension을 사용하세요"
   ]
  },
  {
   "cell_type": "code",
   "execution_count": null,
   "metadata": {
    "slideshow": {
     "slide_type": "subslide"
    }
   },
   "outputs": [],
   "source": [
    "!wget https://raw.githubusercontent.com/iljoooo/2020_IBK/master/data/tweets_100.tsv\n",
    "tweets = open('tweets_100.tsv').readlines()\n",
    "print('total number of tweets:', len(tweets))\n",
    "print(tweets[0])\n",
    "\n",
    "import re\n",
    "tweets = [re.sub('[^a-zA-Z]',' ', t).lower() for t in tweets]\n",
    "print(tweets[0])"
   ]
  },
  {
   "cell_type": "code",
   "execution_count": null,
   "metadata": {
    "slideshow": {
     "slide_type": "subslide"
    }
   },
   "outputs": [],
   "source": [
    "!pip install nltk\n",
    "\n",
    "import nltk\n",
    "from nltk.corpus import stopwords\n",
    "nltk.download('stopwords')\n",
    "\n",
    "stops = set(stopwords.words('english'))\n",
    "print(stops)"
   ]
  },
  {
   "cell_type": "code",
   "execution_count": null,
   "metadata": {},
   "outputs": [],
   "source": [
    "word = [__TODO__]"
   ]
  },
  {
   "cell_type": "markdown",
   "metadata": {
    "slideshow": {
     "slide_type": "slide"
    }
   },
   "source": [
    "# 5.딕셔너리 생성 및 수정"
   ]
  },
  {
   "cell_type": "markdown",
   "metadata": {
    "slideshow": {
     "slide_type": "-"
    }
   },
   "source": [
    "- 아래 키:매핑값(key:value) 쌍으로 되어있는 딕셔너리를 생성한 후 출력한다.\n",
    "    - 매핑값은 반드시 튜플로 되어 있어야 한다.\n",
    "![Lab Dict1](img/ch06-lab-dict-creation-modification.png)"
   ]
  },
  {
   "cell_type": "markdown",
   "metadata": {
    "slideshow": {
     "slide_type": "-"
    }
   },
   "source": [
    "- 아래 키:매핑값 쌍을 방금 만든 딕셔너리의 객체로 추가한 후 이 딕셔너리를 다시 출력한다.\n",
    "    - 키 : **'all'**\n",
    "    - 매핑값 : **(1, 2, 3, 4, 5, 6, 7, 8, 9, 10)**   \n",
    "\n",
    "- 키가 **'odd'**인 객체를 딕셔너리에서 삭제한 후 이 딕셔너리를 다시 출력한다."
   ]
  },
  {
   "cell_type": "markdown",
   "metadata": {
    "slideshow": {
     "slide_type": "subslide"
    }
   },
   "source": [
    "## 실행 예\n",
    "{'even': (2, 4, 6, 8, 10), 'odd': (1, 3, 5, 7, 9), 'prime': (2, 3, 5, 7)}\n",
    "\n",
    "{'even': (2, 4, 6, 8, 10), 'odd': (1, 3, 5, 7, 9), 'prime': (2, 3, 5, 7), 'all': (1, 2, 3, 4, 5, 6, 7, 8, 9, 10)}\n",
    "\n",
    "{'even': (2, 4, 6, 8, 10), 'prime': (2, 3, 5, 7), 'all': (1, 2, 3, 4, 5, 6, 7, 8, 9, 10)}\n",
    "</pre></b>\n"
   ]
  },
  {
   "cell_type": "markdown",
   "metadata": {
    "slideshow": {
     "slide_type": "slide"
    }
   },
   "source": [
    "# 6. 딕셔너리를 활용한 Word Count\n",
    "- 딕셔너리를 사용하여 ***word*** 내의 각 단어의 출현 횟수를 계산하세요\n",
    "- 결과 딕셔너리의 이름은 ***word_dict***로 하세요\n",
    "- 힌트\n",
    "  1. 빈 딕셔너리를 만든다.\n",
    "  2. ***words***의 단어들을 하나씩 확인하면서,\n",
    "    1. 해당 단어가 딕셔너리의 키에 존재하면, value를 1 증가\n",
    "    2. 해당 단어가 딕셔너리의 키에 존재하지 않으면, value를 1로 설정"
   ]
  },
  {
   "cell_type": "code",
   "execution_count": null,
   "metadata": {},
   "outputs": [],
   "source": [
    "word_dict = {}\n",
    "__TODO__"
   ]
  },
  {
   "cell_type": "markdown",
   "metadata": {
    "slideshow": {
     "slide_type": "slide"
    }
   },
   "source": [
    "# 7. 두 정수 비교"
   ]
  },
  {
   "cell_type": "markdown",
   "metadata": {
    "slideshow": {
     "slide_type": "slide"
    }
   },
   "source": [
    "**input()** 함수를 사용해 사용자로부터 두 정수 값을 입력받아 변수 ***x***와 ***y***에 할당한다.\n",
    "\n",
    "입력받은 두 변수의 값을 비교하여 그 결과를 다음과 같이 출력한다.\n",
    "- 만약 ***x***가 ***y***보다 크면 'x가 y보다 큽니다.'를 출력한다.\n",
    "- 만약 ***x***가 ***y***보다 작다면 'x가 y보다 작습니다.'를 출력한다.\n",
    "- 만약 ***x***와 ***y***가 같다면 'x와 y가 같습니다'를 출력한다.    "
   ]
  },
  {
   "cell_type": "markdown",
   "metadata": {
    "colab_type": "text",
    "id": "o_ZAl0WP_yt5",
    "slideshow": {
     "slide_type": "slide"
    }
   },
   "source": [
    "### 실행 예\n",
    "\n",
    "<b><pre>\n",
    "x를 입력하세요:  7\n",
    "y를 입력하세요:  5\n",
    "x가 y보다 큽니다.</pre></b>"
   ]
  },
  {
   "cell_type": "markdown",
   "metadata": {
    "colab_type": "text",
    "id": "o_ZAl0WP_yt5",
    "slideshow": {
     "slide_type": "subslide"
    }
   },
   "source": [
    "<b><pre>\n",
    "x를 입력하세요:  -11\n",
    "y를 입력하세요:  2\n",
    "x가 y보다 작습니다.</pre></b>\n",
    "\n",
    "<b><pre>\n",
    "x를 입력하세요:  9\n",
    "y를 입력하세요:  9\n",
    "x와 y가 같습니다.</pre></b>"
   ]
  },
  {
   "cell_type": "markdown",
   "metadata": {
    "colab_type": "text",
    "id": "fJVb16FA_yt_",
    "slideshow": {
     "slide_type": "slide"
    }
   },
   "source": [
    "# 8. 많이 쓰는 여러 가지 조건식 작성"
   ]
  },
  {
   "cell_type": "markdown",
   "metadata": {
    "colab_type": "text",
    "id": "fJVb16FA_yt_",
    "slideshow": {
     "slide_type": "-"
    }
   },
   "source": [
    "임의의 **lectures = ['math', 'sports', 'english', 'science', 'economics', ... ]**를 만든 후 변수 ***lectures***를 출력한다."
   ]
  },
  {
   "cell_type": "markdown",
   "metadata": {
    "colab_type": "text",
    "id": "fJVb16FA_yt_",
    "slideshow": {
     "slide_type": "-"
    }
   },
   "source": [
    "그리고 다음 조건을 만족하는 코드를 작성하고 결과를 출력한다.\n",
    "- (조건 1) 배우는 과목의 숫자가 4개 이하일 경우 'fail', 5개일 경우 'pass', 그리고 5개 이상일 경우 'liar'를 출력한다.\n",
    "- (조건 2) science와 math가 모두 ***lectures***에 존재하면 '이과', 그렇지 않으면 '문과'를 출력한다.\n",
    "- (조건 3) sports 또는 music 중 하나 이상이 ***lectures***에 존재하면 '예체능', 그렇지 않으면 '일반'을 출력한다."
   ]
  },
  {
   "cell_type": "markdown",
   "metadata": {
    "colab_type": "text",
    "id": "UP9_Q4Br_yuA",
    "slideshow": {
     "slide_type": "-"
    }
   },
   "source": [
    "**Note: 조건식 표현법**\n",
    "- ***a***와 ***b***가 같다 :  *a* **==** *b*   \n",
    "- ***a***가 ***b***보다 크거나(작거나) 같다 : *a* **>=**(**<=**) *b*   \n",
    "- ***x***가 ***a***에 포함된다 : *x* **in** *a*  \n",
    "- ***a*** 또는 ***b*** :  *a* **or** *b*   \n",
    "- ***a*** 그리고 ***b*** : *a* **and** *b*  "
   ]
  },
  {
   "cell_type": "markdown",
   "metadata": {
    "colab_type": "text",
    "id": "RvKtq_jC_yuB",
    "slideshow": {
     "slide_type": "subslide"
    }
   },
   "source": [
    "## 실행 예\n",
    "\n",
    "<b><pre>\n",
    "['math', 'sports', 'english', 'science', 'economics']\n",
    "pass\n",
    "이과\n",
    "예체능</pre></b>"
   ]
  },
  {
   "cell_type": "code",
   "execution_count": null,
   "metadata": {
    "colab": {
     "base_uri": "https://localhost:8080/",
     "height": 85
    },
    "colab_type": "code",
    "id": "8lF-BO8J_yuB",
    "outputId": "a61942a8-e72e-436b-d3f5-9b4a2ec8d6f4",
    "slideshow": {
     "slide_type": "subslide"
    }
   },
   "outputs": [],
   "source": [
    "# --- 많이 쓰는 여러가지 조건식 사용해보기\n",
    "lectures = ['math', 'sports', 'english', 'science', 'economics']\n",
    "print(lectures)\n",
    "\n",
    "__TODO__"
   ]
  },
  {
   "cell_type": "markdown",
   "metadata": {},
   "source": [
    "# 9. 조건문을 간편 조건문으로 변환\n",
    "\n",
    "다음 코드를 간편 조건문으로 바꿔보자."
   ]
  },
  {
   "cell_type": "code",
   "execution_count": null,
   "metadata": {},
   "outputs": [],
   "source": [
    "margin = False\n",
    "\n",
    "if margin:\n",
    "    width = 100 + 10\n",
    "else:\n",
    "    width = 100 + 0\n",
    "\n",
    "print(width)"
   ]
  },
  {
   "cell_type": "code",
   "execution_count": null,
   "metadata": {},
   "outputs": [],
   "source": [
    "margin = False\n",
    "width = __TODO__\n",
    "print(width)"
   ]
  },
  {
   "cell_type": "markdown",
   "metadata": {
    "colab_type": "text",
    "id": "2-JpfJHPED1t",
    "slideshow": {
     "slide_type": "slide"
    }
   },
   "source": [
    "# 10. **while-else**문"
   ]
  },
  {
   "cell_type": "markdown",
   "metadata": {
    "colab_type": "text",
    "id": "2-JpfJHPED1t",
    "slideshow": {
     "slide_type": "slide"
    }
   },
   "source": [
    "변수 ***number***를 **0**으로 초기화한다.\n",
    "\n",
    "***number***가  **10**보다 작으면 '10보다 작습니다.'를 출력하면서, ***number***를 **1**씩 증가시킨다. \n",
    "\n",
    "***number***가 **10** 이상이 되면 '종료'를 출력하면서 **while**문을 빠져나간다. "
   ]
  },
  {
   "cell_type": "markdown",
   "metadata": {
    "colab_type": "text",
    "id": "S_Bxcdy2hQPf",
    "slideshow": {
     "slide_type": "slide"
    }
   },
   "source": [
    "## 실행 예\n",
    "\n",
    "<b><pre>\n",
    "10보다 작습니다.\n",
    "10보다 작습니다.\n",
    "10보다 작습니다.\n",
    "10보다 작습니다.\n",
    "10보다 작습니다.\n",
    "10보다 작습니다.\n",
    "10보다 작습니다.\n",
    "10보다 작습니다.\n",
    "10보다 작습니다.\n",
    "10보다 작습니다.\n",
    "종료</pre></b>"
   ]
  },
  {
   "cell_type": "code",
   "execution_count": null,
   "metadata": {},
   "outputs": [],
   "source": [
    "number = 0\n",
    "__TODO__"
   ]
  },
  {
   "cell_type": "markdown",
   "metadata": {
    "colab_type": "text",
    "id": "1CQYplhVED14",
    "slideshow": {
     "slide_type": "slide"
    }
   },
   "source": [
    "# 11. 최소공배수 구하는 **while-else**문"
   ]
  },
  {
   "cell_type": "markdown",
   "metadata": {
    "colab_type": "text",
    "id": "1CQYplhVED14",
    "slideshow": {
     "slide_type": "slide"
    }
   },
   "source": [
    "서로 다른 임의의 정수 3개를 입력 받는다."
   ]
  },
  {
   "cell_type": "markdown",
   "metadata": {
    "colab_type": "text",
    "id": "1CQYplhVED14",
    "slideshow": {
     "slide_type": "slide"
    }
   },
   "source": [
    "이 세 정수의 최소공배수를 찾아내고, '최소공배수는 ***X***입니다.'를 출력하면서 종료한다.\n",
    "- ***X***는 여기서 찾아낸 최소공배수를 의미한다."
   ]
  },
  {
   "cell_type": "markdown",
   "metadata": {
    "colab_type": "text",
    "id": "1CQYplhVED14",
    "slideshow": {
     "slide_type": "slide"
    }
   },
   "source": [
    "최소공배수(least common multiple)란 2개 이상의 수의 공배수 가운데서 최소인 것을 말한다.\n",
    "- 공배수란 두 개 이상의 자연수의 공통인 배수를 말한다.\n",
    "- 예) **2**, **3**, **9**의 최소공배수는 **18**이다. \n",
    "    "
   ]
  },
  {
   "cell_type": "markdown",
   "metadata": {
    "colab_type": "text",
    "id": "1CQYplhVED14",
    "slideshow": {
     "slide_type": "slide"
    }
   },
   "source": [
    "**힌트** \n",
    "- ***i***를 입력받은 세 수로 각각 나누어 나머지가 모두 **0**이 될 때까지 연산한다."
   ]
  },
  {
   "cell_type": "markdown",
   "metadata": {
    "colab_type": "text",
    "id": "LcYrQgp2h2pz",
    "slideshow": {
     "slide_type": "slide"
    }
   },
   "source": [
    "## 실행 예  \n",
    "\n",
    "<b><pre>\n",
    "첫번째 숫자를 입력하세요: 2\n",
    "두번째 숫자를 입력하세요: 3\n",
    "세번째 숫자를 입력하세요: 9\n",
    "최소공배수는 18입니다.</pre></b>"
   ]
  },
  {
   "cell_type": "code",
   "execution_count": null,
   "metadata": {},
   "outputs": [],
   "source": []
  },
  {
   "cell_type": "markdown",
   "metadata": {
    "colab_type": "text",
    "id": "cfWjclFe7Vzn",
    "slideshow": {
     "slide_type": "slide"
    }
   },
   "source": [
    "# 12. 원하는 만큼 **for**문 반복하기"
   ]
  },
  {
   "cell_type": "markdown",
   "metadata": {
    "colab_type": "text",
    "id": "cfWjclFe7Vzn",
    "slideshow": {
     "slide_type": "slide"
    }
   },
   "source": [
    "임의의 정수 ***n***을 입력받는다. \n",
    "\n",
    "**print()** 함수로 높이와 밑변을 ***n***으로 갖는 직각 삼각형을 그려보자. \n",
    "\n",
    "\n",
    "**힌트**\n",
    "- **range()** 함수를 활용하자.\n",
    "- **print('#' * 정수)** 형식으로 출력하자. "
   ]
  },
  {
   "cell_type": "markdown",
   "metadata": {
    "colab_type": "text",
    "id": "cfWjclFe7Vzn",
    "slideshow": {
     "slide_type": "slide"
    }
   },
   "source": [
    "### 실행 예\n",
    "\n",
    "<b><pre>\n",
    "반복 횟수를 입력하세요: 5</pre></b>\n",
    "\n",
    "```code\n",
    "#\n",
    "# #\n",
    "# # #    \n",
    "# # # #   \n",
    "# # # # #\n",
    "```"
   ]
  },
  {
   "cell_type": "code",
   "execution_count": null,
   "metadata": {},
   "outputs": [],
   "source": []
  },
  {
   "cell_type": "markdown",
   "metadata": {
    "slideshow": {
     "slide_type": "slide"
    }
   },
   "source": [
    "# 13. 2차원 리스트를 출력하는 중첩 **for**문"
   ]
  },
  {
   "cell_type": "markdown",
   "metadata": {
    "slideshow": {
     "slide_type": "slide"
    }
   },
   "source": [
    "알파벳 대문자(**A~O**)로 이루어진 3행(row) 5열(column)의 2차원 리스트를 생성한 후 출력한다.\n",
    "- 3 by 5(3, 5)의 2차원 리스트란 각 행(리스트)이 5개의 데이터를 가지고 있는 중첩리스트다.\n",
    "\n",
    "2차원 리스트 각 행의 대문자를 모두 소문자로 바꾸어 출력한다.\n",
    "\n",
    "이 때 행 별로 한 줄씩 출력한다.\n",
    "\n",
    "    "
   ]
  },
  {
   "cell_type": "markdown",
   "metadata": {
    "slideshow": {
     "slide_type": "slide"
    }
   },
   "source": [
    "## 실행 예\n",
    "\n",
    "<b><pre>\n",
    "[['A', 'B', 'C', 'D', 'E'], ['F', 'G', 'H', 'I', 'J'], ['K', 'L', 'M', 'N', 'O']]</pre></b>\n",
    "\n",
    "<b><pre>a b c d e   \n",
    "f g h i j   \n",
    "k l m n o</pre></b>"
   ]
  },
  {
   "cell_type": "code",
   "execution_count": null,
   "metadata": {},
   "outputs": [],
   "source": []
  },
  {
   "cell_type": "markdown",
   "metadata": {
    "slideshow": {
     "slide_type": "slide"
    }
   },
   "source": [
    "# 14. 윤년 계산기"
   ]
  },
  {
   "cell_type": "markdown",
   "metadata": {
    "slideshow": {
     "slide_type": "slide"
    }
   },
   "source": [
    "**for**문에서 **range()** 클래스를 사용하여 윤년 계산을 한 후 그 결과를 리스트에 담아 출력한다."
   ]
  },
  {
   "cell_type": "markdown",
   "metadata": {
    "slideshow": {
     "slide_type": "slide"
    }
   },
   "source": [
    "윤년 계산 규칙은 다음과 같다.(<https://ko.wikipedia.org/wiki/윤년>)\n",
    "- 그 해의 숫자가 **4**로 나누어 떨어지는 해는 윤년으로 한다.\n",
    "    - 예) 1988년, 1992년, 1996년, 2004년, 2008년, 2012년, ...\n",
    "- 그 해의 숫자가 **4**로 나누어지지만 **100**으로도 나누어지면 평년으로 한다.\n",
    "    - 예) 1900년, 2100년, 2200년, 2300년, 2500년, ...\n",
    "- 그 해의 숫자가 **100**으로 나누어지지만 **400**으로도 나누어지면 윤년으로 한다.\n",
    "    - 예) 1600년, 2000년, 2400년, ..."
   ]
  },
  {
   "cell_type": "markdown",
   "metadata": {
    "slideshow": {
     "slide_type": "slide"
    }
   },
   "source": [
    "## 실행 예\n",
    "\n",
    "2000년에서 3000년 사이(둘 다 포함)\n",
    "\n",
    "<b><pre>\n",
    "[2000, 2004, 2008, 2012, 2016, 2020, 2024, 2028, 2032, 2036, 2040, 2044, 2048, 2052, 2056, 2060, 2064, 2068, 2072, 2076, 2080, 2084, 2088, 2092, 2096, 2104, 2108, 2112, 2116, 2120, 2124, 2128, 2132, 2136, 2140, 2144, 2148, 2152, 2156, 2160, 2164, 2168, 2172, 2176, 2180, 2184, 2188, 2192, 2196, 2204, 2208, 2212, 2216, 2220, 2224, 2228, 2232, 2236, 2240, 2244, 2248, 2252, 2256, 2260, 2264, 2268, 2272, 2276, 2280, 2284, 2288, 2292, 2296, 2304, 2308, 2312, 2316, 2320, 2324, 2328, 2332, 2336, 2340, 2344, 2348, 2352, 2356, 2360, 2364, 2368, 2372, 2376, 2380, 2384, 2388, 2392, 2396, 2400, 2404, 2408, 2412, 2416, 2420, 2424, 2428, 2432, 2436, 2440, 2444, 2448, 2452, 2456, 2460, 2464, 2468, 2472, 2476, 2480, 2484, 2488, 2492, 2496, 2504, 2508, 2512, 2516, 2520, 2524, 2528, 2532, 2536, 2540, 2544, 2548, 2552, 2556, 2560, 2564, 2568, 2572, 2576, 2580, 2584, 2588, 2592, 2596, 2604, 2608, 2612, 2616, 2620, 2624, 2628, 2632, 2636, 2640, 2644, 2648, 2652, 2656, 2660, 2664, 2668, 2672, 2676, 2680, 2684, 2688, 2692, 2696, 2704, 2708, 2712, 2716, 2720, 2724, 2728, 2732, 2736, 2740, 2744, 2748, 2752, 2756, 2760, 2764, 2768, 2772, 2776, 2780, 2784, 2788, 2792, 2796, 2800, 2804, 2808, 2812, 2816, 2820, 2824, 2828, 2832, 2836, 2840, 2844, 2848, 2852, 2856, 2860, 2864, 2868, 2872, 2876, 2880, 2884, 2888, 2892, 2896, 2904, 2908, 2912, 2916, 2920, 2924, 2928, 2932, 2936, 2940, 2944, 2948, 2952, 2956, 2960, 2964, 2968, 2972, 2976, 2980, 2984, 2988, 2992, 2996]</pre></b>"
   ]
  },
  {
   "cell_type": "code",
   "execution_count": null,
   "metadata": {},
   "outputs": [],
   "source": []
  },
  {
   "cell_type": "markdown",
   "metadata": {
    "colab_type": "text",
    "id": "pjIgVxG0ED33",
    "slideshow": {
     "slide_type": "slide"
    }
   },
   "source": [
    "# 15. **for**문 흐름 제어"
   ]
  },
  {
   "cell_type": "markdown",
   "metadata": {
    "colab_type": "text",
    "id": "pjIgVxG0ED33",
    "slideshow": {
     "slide_type": "slide"
    }
   },
   "source": [
    "임의의 정수로 구성된 튜플(또는 리스트)을 만들어 변수 ***data***에 할당한 후 ***data***를 출력한다.\n",
    "- 예) **1, 4, 7, 3, 4, 6, 0, 1, 4, 11, 10, 5, ...**\n",
    "\n",
    "**for**문을 활용하여 ***data***의 값을 순서대로 출력한다. 이때, 숫자가 **5** 이상이면 출력을 하고, 그렇지 않으면 출력하지 않는다. 그런데 숫자가 **0**이면, 즉시 **for**문을 종료한다.\n",
    "\n",
    "반드시 **break**와 **continue** 명령어 둘 다를 사용해야 한다."
   ]
  },
  {
   "cell_type": "markdown",
   "metadata": {
    "colab_type": "text",
    "id": "pjIgVxG0ED33",
    "slideshow": {
     "slide_type": "slide"
    }
   },
   "source": [
    "## 실행 예\n",
    "\n",
    "<b><pre>\n",
    "[1, 4, 7, 3, 4, 6, 0, 1, 4, 11, 10, 5]</pre></b>\n",
    "\n",
    "<b><pre>7\n",
    "6\n",
    "0 : for문을 빠져나갑니다.</pre></b>"
   ]
  },
  {
   "cell_type": "code",
   "execution_count": null,
   "metadata": {},
   "outputs": [],
   "source": []
  },
  {
   "cell_type": "markdown",
   "metadata": {
    "colab_type": "text",
    "id": "76E2IbYj_yuF",
    "slideshow": {
     "slide_type": "slide"
    }
   },
   "source": [
    "# 16. **try-except-else문**"
   ]
  },
  {
   "cell_type": "markdown",
   "metadata": {
    "colab_type": "text",
    "id": "76E2IbYj_yuF",
    "slideshow": {
     "slide_type": "slide"
    }
   },
   "source": [
    "사용자가 입력한 값을 정수로 형변환을 시도한다. \n",
    "\n",
    "이때 예외가 발생하면 '형식이 올바르지 않습니다!!!'라는 문구를 출력하고, \n",
    "\n",
    "예외가 발생하지 않으면 입력한 값을 출력한다."
   ]
  },
  {
   "cell_type": "markdown",
   "metadata": {
    "colab_type": "text",
    "id": "8Gkernu-JobJ",
    "slideshow": {
     "slide_type": "slide"
    }
   },
   "source": [
    "### 실행 예\n",
    "\n",
    "<pre>\n",
    "숫자나 문자를 입력하세요...: a\n",
    "형식이 올바르지 않습니다!!!</pre>\n",
    "\n",
    "<pre> \n",
    "숫자나 문자를 입력하세요...: 5.0\n",
    "형식이 올바르지 않습니다!!!</pre>\n",
    "\n",
    "<pre> \n",
    "숫자나 문자를 입력하세요...: 5\n",
    "5</pre>"
   ]
  },
  {
   "cell_type": "code",
   "execution_count": null,
   "metadata": {},
   "outputs": [],
   "source": []
  }
 ],
 "metadata": {
  "kernelspec": {
   "display_name": "Python 3",
   "language": "python",
   "name": "python3"
  },
  "language_info": {
   "codemirror_mode": {
    "name": "ipython",
    "version": 3
   },
   "file_extension": ".py",
   "mimetype": "text/x-python",
   "name": "python",
   "nbconvert_exporter": "python",
   "pygments_lexer": "ipython3",
   "version": "3.7.4"
  }
 },
 "nbformat": 4,
 "nbformat_minor": 2
}
